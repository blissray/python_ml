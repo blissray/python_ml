{
 "cells": [
  {
   "cell_type": "code",
   "execution_count": 1,
   "metadata": {
    "collapsed": true
   },
   "outputs": [],
   "source": [
    "import sys\n",
    "import os\n",
    "import re\n",
    "try:\n",
    "    import ujson as json  # UltraJSON if available\n",
    "except:\n",
    "    import json\n",
    "from dateutil import parser as dateparser\n",
    "\n",
    "from operator import itemgetter\n",
    "from xml.etree import cElementTree as etree\n",
    "from collections import defaultdict\n",
    "\n",
    "from data import DATA_DIR\n"
   ]
  },
  {
   "cell_type": "code",
   "execution_count": 2,
   "metadata": {
    "collapsed": false
   },
   "outputs": [
    {
     "name": "stdout",
     "output_type": "stream",
     "text": [
      "Reading from xml data/posts.xml\n",
      "Filtered: data/filtered.tsv\n",
      "Meta: data/filtered-meta.json\n"
     ]
    }
   ],
   "source": [
    "filename = os.path.join(DATA_DIR, \"posts.xml\")\n",
    "print(\"Reading from xml %s\" % filename)\n",
    "filename_filtered = os.path.join(DATA_DIR, \"filtered.tsv\")\n",
    "print(\"Filtered: %s\" % filename_filtered)\n",
    "filename_filtered_meta = os.path.join(DATA_DIR, \"filtered-meta.json\")\n",
    "print(\"Meta: %s\" % filename_filtered_meta)"
   ]
  },
  {
   "cell_type": "code",
   "execution_count": 3,
   "metadata": {
    "collapsed": true
   },
   "outputs": [],
   "source": [
    "q_creation = {}  # creation datetimes of questions\n",
    "q_accepted = {}  # id of accepted answer\n",
    "\n",
    "# question -> [(answer Id, IsAccepted, TimeToAnswer, Score), ...]\n",
    "meta = defaultdict(list)\n",
    "\n",
    "# regegx to find code snippets\n",
    "code_match = re.compile('<pre>(.*?)</pre>', re.MULTILINE | re.DOTALL)\n",
    "link_match = re.compile(\n",
    "    '<a href=\"http://.*?\".*?>(.*?)</a>', re.MULTILINE | re.DOTALL)\n",
    "img_match = re.compile('<img(.*?)/>', re.MULTILINE | re.DOTALL)\n",
    "tag_match = re.compile('<[^>]*>', re.MULTILINE | re.DOTALL)\n"
   ]
  },
  {
   "cell_type": "code",
   "execution_count": 4,
   "metadata": {
    "collapsed": true
   },
   "outputs": [],
   "source": [
    "years = defaultdict(int)\n",
    "num_questions = 0\n",
    "num_answers = 0\n",
    "\n",
    "if sys.version_info.major < 3:\n",
    "    # Python 2, map() returns a list, which will lead to out of memory errors.\n",
    "    # The following import ensures that the script behaves like being executed\n",
    "    # with Python 3.\n",
    "    from itertools import imap as map\n"
   ]
  },
  {
   "cell_type": "code",
   "execution_count": 5,
   "metadata": {
    "collapsed": true
   },
   "outputs": [],
   "source": [
    "def parsexml(filename):\n",
    "    global num_questions, num_answers\n",
    "\n",
    "    counter = 0\n",
    "\n",
    "    it = map(itemgetter(1),\n",
    "             iter(etree.iterparse(filename, events=('start',))))\n",
    "\n",
    "    root = next(it)  # get posts element\n",
    "\n",
    "    for elem in it:\n",
    "        if counter == 1000000:\n",
    "            print(\"Processed %i <row/> elements\" % counter)\n",
    "\n",
    "        counter += 1\n",
    "\n",
    "        if elem.tag == 'row':\n",
    "            creation_date = dateparser.parse(elem.get('CreationDate'))\n",
    "\n",
    "            Id = int(elem.get('Id'))\n",
    "            PostTypeId = int(elem.get('PostTypeId'))\n",
    "            Score = int(elem.get('Score'))\n",
    "\n",
    "            if PostTypeId == 1:\n",
    "                num_questions += 1\n",
    "                years[creation_date.year] += 1\n",
    "\n",
    "                ParentId = -1\n",
    "                TimeToAnswer = 0\n",
    "                q_creation[Id] = creation_date\n",
    "                accepted = elem.get('AcceptedAnswerId')\n",
    "                if accepted:\n",
    "                    q_accepted[Id] = int(accepted)\n",
    "                IsAccepted = 0\n",
    "\n",
    "            elif PostTypeId == 2:\n",
    "                num_answers += 1\n",
    "\n",
    "                ParentId = int(elem.get('ParentId'))\n",
    "                if not ParentId in q_creation:\n",
    "                    # question was too far in the past\n",
    "                    continue\n",
    "\n",
    "                TimeToAnswer = (creation_date - q_creation[ParentId]).seconds\n",
    "\n",
    "                if ParentId in q_accepted:\n",
    "                    IsAccepted = int(q_accepted[ParentId] == Id)\n",
    "                else:\n",
    "                    IsAccepted = 0\n",
    "\n",
    "                meta[ParentId].append((Id, IsAccepted, TimeToAnswer, Score))\n",
    "\n",
    "            else:\n",
    "                continue\n",
    "\n",
    "            Text, NumTextTokens, NumCodeLines, LinkCount, NumImages = filter_html(\n",
    "                elem.get('Body'))\n",
    "\n",
    "            values = (Id, ParentId,\n",
    "                      IsAccepted,\n",
    "                      TimeToAnswer, Score,\n",
    "                      Text.encode(\"utf-8\"),\n",
    "                      NumTextTokens, NumCodeLines, LinkCount, NumImages)\n",
    "\n",
    "            yield values\n",
    "\n",
    "            root.clear()  # preserve memory"
   ]
  },
  {
   "cell_type": "code",
   "execution_count": 6,
   "metadata": {
    "collapsed": true
   },
   "outputs": [],
   "source": [
    "def filter_html(s):\n",
    "    num_code_lines = 0\n",
    "    link_count_in_code = 0\n",
    "    code_free_s = s\n",
    "\n",
    "    num_images = len(img_match.findall(s))\n",
    "\n",
    "    # remove source code and count how many lines\n",
    "    for match_str in code_match.findall(s):\n",
    "        num_code_lines += match_str.count('\\n')\n",
    "        code_free_s = code_match.sub(\"\", code_free_s)\n",
    "\n",
    "        # sometimes source code contain links, which we don't want to count\n",
    "        link_count_in_code += len(link_match.findall(match_str))\n",
    "\n",
    "    links = link_match.findall(s)\n",
    "    link_count = len(links)\n",
    "\n",
    "    link_count -= link_count_in_code\n",
    "\n",
    "    link_free_s = re.sub(\n",
    "        \" +\", \" \", tag_match.sub('', code_free_s)).replace(\"\\n\", \"\")\n",
    "\n",
    "    for link in links:\n",
    "        if link.lower().startswith(\"http://\"):\n",
    "            link_free_s = link_free_s.replace(link, '')\n",
    "\n",
    "    num_text_tokens = link_free_s.count(\" \")\n",
    "\n",
    "    return link_free_s, num_text_tokens, num_code_lines, link_count, num_images"
   ]
  },
  {
   "cell_type": "code",
   "execution_count": null,
   "metadata": {
    "collapsed": false,
    "scrolled": false
   },
   "outputs": [],
   "source": [
    "with open(filename_filtered, \"w\") as f:\n",
    "    for values in parsexml(filename):\n",
    "        line = \"\\t\".join(map(str, values))\n",
    "        f.write(line + \"\\n\")\n",
    "\n",
    "with open(filename_filtered_meta, \"w\") as f:\n",
    "    json.dump(meta, f)\n",
    "\n",
    "print(\"years:\", years)\n",
    "print(\"#qestions: %i\" % num_questions)\n",
    "print(\"#answers: %i\" % num_answers)"
   ]
  },
  {
   "cell_type": "code",
   "execution_count": null,
   "metadata": {
    "collapsed": true
   },
   "outputs": [],
   "source": []
  }
 ],
 "metadata": {
  "kernelspec": {
   "display_name": "Python 3",
   "language": "python",
   "name": "python3"
  },
  "language_info": {
   "codemirror_mode": {
    "name": "ipython",
    "version": 3
   },
   "file_extension": ".py",
   "mimetype": "text/x-python",
   "name": "python",
   "nbconvert_exporter": "python",
   "pygments_lexer": "ipython3",
   "version": "3.4.4"
  }
 },
 "nbformat": 4,
 "nbformat_minor": 0
}
