{
 "cells": [
  {
   "cell_type": "code",
   "execution_count": 17,
   "metadata": {
    "collapsed": false
   },
   "outputs": [],
   "source": [
    "%matplotlib inline\n",
    "\n",
    "from __future__ import print_function\n",
    "from wordcloud import create_cloud\n",
    "try:\n",
    "    from gensim import corpora, models, matutils\n",
    "except:\n",
    "    print(\"import gensim failed.\")\n",
    "    print()\n",
    "    print(\"Please install it\")\n",
    "    raise\n",
    "\n",
    "import matplotlib.pyplot as plt\n",
    "import numpy as np\n",
    "from os import path"
   ]
  },
  {
   "cell_type": "code",
   "execution_count": 18,
   "metadata": {
    "collapsed": true
   },
   "outputs": [],
   "source": [
    "NUM_TOPICS = 100\n",
    "\n",
    "# Check that data exists\n",
    "if not path.exists('./data/ap/ap.dat'):\n",
    "    print('Error: Expected data to be present at data/ap/')\n",
    "    print('Please cd into ./data & run ./download_ap.sh')\n",
    "\n",
    "# Load the data\n",
    "corpus = corpora.BleiCorpus('./data/ap/ap.dat', './data/ap/vocab.txt')\n",
    "\n",
    "# Build the topic model\n",
    "model = models.ldamodel.LdaModel(\n",
    "    corpus, num_topics=NUM_TOPICS, id2word=corpus.id2word, alpha=None)"
   ]
  },
  {
   "cell_type": "code",
   "execution_count": 25,
   "metadata": {
    "collapsed": false
   },
   "outputs": [
    {
     "name": "stdout",
     "output_type": "stream",
     "text": [
      "[(5, 0.065346307801313341), (8, 0.062163673908854737), (16, 0.030540319903267429), (19, 0.01470630762534903), (36, 0.068784615936843346), (40, 0.34992886780113791), (42, 0.056889025845844009), (44, 0.059443554269874098), (55, 0.015241051496420981), (82, 0.046396235761258002), (91, 0.029898155522520155), (92, 0.039392592594064954), (97, 0.14377221786720318)]\n"
     ]
    }
   ],
   "source": [
    "doc = corpus.docbyoffset(0)\n",
    "topics = model[doc]\n",
    "print(topics)"
   ]
  },
  {
   "cell_type": "code",
   "execution_count": 30,
   "metadata": {
    "collapsed": false
   },
   "outputs": [
    {
     "data": {
      "text/plain": [
       "(array([ 158.,  260.,  389.,  555.,  311.,  261.,  215.,   59.,   26.,   12.]),\n",
       " array([  1. ,   3.3,   5.6,   7.9,  10.2,  12.5,  14.8,  17.1,  19.4,\n",
       "         21.7,  24. ]),\n",
       " <a list of 10 Patch objects>)"
      ]
     },
     "execution_count": 30,
     "metadata": {},
     "output_type": "execute_result"
    },
    {
     "data": {
      "image/png": "[encoded data removed]",
      "text/plain": [
       "<matplotlib.figure.Figure at 0x7fbce90e6668>"
      ]
     },
     "metadata": {},
     "output_type": "display_data"
    }
   ],
   "source": [
    "num_topics_used = [len(model[doc]) for doc in corpus]\n",
    "plt.hist(num_topics_used)"
   ]
  },
  {
   "cell_type": "code",
   "execution_count": 34,
   "metadata": {
    "collapsed": false
   },
   "outputs": [
    {
     "name": "stdout",
     "output_type": "stream",
     "text": [
      "Could not import pytagcloud. Skipping cloud generation\n"
     ]
    },
    {
     "data": {
      "image/png": "[encoded data removed]",
      "text/plain": [
       "<matplotlib.figure.Figure at 0x7fbce9b76e48>"
      ]
     },
     "metadata": {},
     "output_type": "display_data"
    },
    {
     "data": {
      "image/png": "[encoded data removed]",
      "text/plain": [
       "<matplotlib.figure.Figure at 0x7fbce965eda0>"
      ]
     },
     "metadata": {},
     "output_type": "display_data"
    }
   ],
   "source": [
    "topics = matutils.corpus2dense(model[corpus], num_terms=model.num_topics)\n",
    "weight = topics.sum(1)\n",
    "max_topic = weight.argmax()\n",
    "\n",
    "\n",
    "# Get the top 64 words for this topic\n",
    "# Without the argument, show_topic would return only 10 words\n",
    "words = model.show_topic(max_topic, 64)\n",
    "\n",
    "# This function will actually check for the presence of pytagcloud and is otherwise a no-op\n",
    "create_cloud('cloud_blei_lda.png', words)\n",
    "\n",
    "num_topics_used = [len(model[doc]) for doc in corpus]\n",
    "fig,ax = plt.subplots()\n",
    "ax.hist(num_topics_used, np.arange(42))\n",
    "ax.set_ylabel('Nr of documents')\n",
    "ax.set_xlabel('Nr of topics')\n",
    "fig.tight_layout()\n",
    "fig.savefig('Figure_04_01.png')\n",
    "\n",
    "\n",
    "# Now, repeat the same exercise using alpha=1.0\n",
    "# You can edit the constant below to play arousnd with this parameter\n",
    "ALPHA = 1.0\n",
    "\n",
    "model1 = models.ldamodel.LdaModel(\n",
    "    corpus, num_topics=NUM_TOPICS, id2word=corpus.id2word, alpha=ALPHA)\n",
    "num_topics_used1 = [len(model1[doc]) for doc in corpus]\n",
    "\n",
    "fig,ax = plt.subplots()\n",
    "ax.hist([num_topics_used, num_topics_used1], np.arange(42))\n",
    "ax.set_ylabel('Nr of documents')\n",
    "ax.set_xlabel('Nr of topics')\n",
    "\n",
    "# The coordinates below were fit by trial and error to look good\n",
    "ax.text(9, 223, r'default alpha')\n",
    "ax.text(26, 156, 'alpha=1.0')\n",
    "fig.tight_layout()\n",
    "fig.savefig('Figure_04_02.png')"
   ]
  }
 ],
 "metadata": {
  "kernelspec": {
   "display_name": "Python 3",
   "language": "python",
   "name": "python3"
  },
  "language_info": {
   "codemirror_mode": {
    "name": "ipython",
    "version": 3
   },
   "file_extension": ".py",
   "mimetype": "text/x-python",
   "name": "python",
   "nbconvert_exporter": "python",
   "pygments_lexer": "ipython3",
   "version": "3.5.1"
  }
 },
 "nbformat": 4,
 "nbformat_minor": 0
}
