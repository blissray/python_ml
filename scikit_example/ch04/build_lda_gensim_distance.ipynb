{
 "cells": [
  {
   "cell_type": "code",
   "execution_count": 12,
   "metadata": {
    "collapsed": false
   },
   "outputs": [
    {
     "ename": "ValueError",
     "evalue": "cannot compute LDA over an empty collection (no terms)",
     "output_type": "error",
     "traceback": [
      "\u001b[1;31m---------------------------------------------------------------------------\u001b[0m",
      "\u001b[1;31mValueError\u001b[0m                                Traceback (most recent call last)",
      "\u001b[1;32m<ipython-input-12-9566f88d6741>\u001b[0m in \u001b[0;36m<module>\u001b[1;34m()\u001b[0m\n\u001b[0;32m     73\u001b[0m \u001b[1;33m\u001b[0m\u001b[0m\n\u001b[0;32m     74\u001b[0m model = models.ldamodel.LdaModel(\n\u001b[1;32m---> 75\u001b[1;33m     corpus, num_topics=100, id2word=dictionary.id2token)\n\u001b[0m\u001b[0;32m     76\u001b[0m \u001b[1;33m\u001b[0m\u001b[0m\n\u001b[0;32m     77\u001b[0m \u001b[0mthetas\u001b[0m \u001b[1;33m=\u001b[0m \u001b[0mnp\u001b[0m\u001b[1;33m.\u001b[0m\u001b[0mzeros\u001b[0m\u001b[1;33m(\u001b[0m\u001b[1;33m(\u001b[0m\u001b[0mlen\u001b[0m\u001b[1;33m(\u001b[0m\u001b[0mtexts\u001b[0m\u001b[1;33m)\u001b[0m\u001b[1;33m,\u001b[0m \u001b[1;36m100\u001b[0m\u001b[1;33m)\u001b[0m\u001b[1;33m)\u001b[0m\u001b[1;33m\u001b[0m\u001b[0m\n",
      "\u001b[1;32m/opt/conda/lib/python3.5/site-packages/gensim/models/ldamodel.py\u001b[0m in \u001b[0;36m__init__\u001b[1;34m(self, corpus, num_topics, id2word, distributed, chunksize, passes, update_every, alpha, eta, decay, offset, eval_every, iterations, gamma_threshold, minimum_probability)\u001b[0m\n\u001b[0;32m    269\u001b[0m \u001b[1;33m\u001b[0m\u001b[0m\n\u001b[0;32m    270\u001b[0m         \u001b[1;32mif\u001b[0m \u001b[0mself\u001b[0m\u001b[1;33m.\u001b[0m\u001b[0mnum_terms\u001b[0m \u001b[1;33m==\u001b[0m \u001b[1;36m0\u001b[0m\u001b[1;33m:\u001b[0m\u001b[1;33m\u001b[0m\u001b[0m\n\u001b[1;32m--> 271\u001b[1;33m             \u001b[1;32mraise\u001b[0m \u001b[0mValueError\u001b[0m\u001b[1;33m(\u001b[0m\u001b[1;34m\"cannot compute LDA over an empty collection (no terms)\"\u001b[0m\u001b[1;33m)\u001b[0m\u001b[1;33m\u001b[0m\u001b[0m\n\u001b[0m\u001b[0;32m    272\u001b[0m \u001b[1;33m\u001b[0m\u001b[0m\n\u001b[0;32m    273\u001b[0m         \u001b[0mself\u001b[0m\u001b[1;33m.\u001b[0m\u001b[0mdistributed\u001b[0m \u001b[1;33m=\u001b[0m \u001b[0mbool\u001b[0m\u001b[1;33m(\u001b[0m\u001b[0mdistributed\u001b[0m\u001b[1;33m)\u001b[0m\u001b[1;33m\u001b[0m\u001b[0m\n",
      "\u001b[1;31mValueError\u001b[0m: cannot compute LDA over an empty collection (no terms)"
     ]
    }
   ],
   "source": [
    "# This code is supporting material for the book\n",
    "# Building Machine Learning Systems with Python\n",
    "# by Willi Richert and Luis Pedro Coelho\n",
    "# published by PACKT Publishing\n",
    "#\n",
    "# It is made available under the MIT License\n",
    "from __future__ import print_function\n",
    "\n",
    "try:\n",
    "    import nltk.corpus\n",
    "except ImportError:\n",
    "    print(\"nltk not found\")\n",
    "    print(\"please install it\")\n",
    "    raise\n",
    "from scipy.spatial import distance\n",
    "import numpy as np\n",
    "from gensim import corpora, models\n",
    "import sklearn.datasets\n",
    "import nltk.stem\n",
    "from collections import defaultdict\n",
    "\n",
    "\n",
    "\n",
    "english_stemmer = nltk.stem.SnowballStemmer('english')\n",
    "stopwords = set(nltk.corpus.stopwords.words('english'))\n",
    "stopwords.update(['from:', 'subject:', 'writes:', 'writes'])\n",
    "\n",
    "\n",
    "class DirectText(corpora.textcorpus.TextCorpus):\n",
    "\n",
    "    def get_texts(self):\n",
    "        return self.input\n",
    "\n",
    "    def __len__(self):\n",
    "        return len(self.input)\n",
    "try:\n",
    "    dataset = sklearn.datasets.load_mlcomp(\"20news-18828\", \"train\",\n",
    "                                       mlcomp_root='./data')\n",
    "except:\n",
    "    print(\"Newsgroup data not found.\")\n",
    "    print(\"Please download from http://mlcomp.org/datasets/379\")\n",
    "    print(\"And expand the zip into the subdirectory data/\")\n",
    "    print()\n",
    "    print()\n",
    "    raise\n",
    "\n",
    "otexts = dataset.data\n",
    "texts = dataset.data\n",
    "\n",
    "texts = [t.decode('utf-8', 'ignore') for t in texts]\n",
    "texts = [t.split() for t in texts]\n",
    "texts = [map(lambda w: w.lower(), t) for t in texts]\n",
    "texts = [filter(lambda s: not len(set(\"+-.?!()>@012345689\") & set(s)), t)\n",
    "         for t in texts]\n",
    "texts = [filter(lambda s: (len(s) > 3) and (s not in stopwords), t)\n",
    "         for t in texts]\n",
    "texts = [map(english_stemmer.stem, t) for t in texts]\n",
    "usage = defaultdict(int)\n",
    "for t in texts:\n",
    "    for w in set(t):\n",
    "        usage[w] += 1\n",
    "limit = len(texts) / 10\n",
    "too_common = [w for w in usage if usage[w] > limit]\n",
    "too_common = set(too_common)\n",
    "texts = [filter(lambda s: s not in too_common, t) for t in texts]\n",
    "\n",
    "corpus = DirectText(texts)\n",
    "dictionary = corpus.dictionary\n",
    "try:\n",
    "    dictionary['computer']\n",
    "except:\n",
    "    pass\n",
    "\n",
    "model = models.ldamodel.LdaModel(\n",
    "    corpus, num_topics=100, id2word=dictionary.id2token)\n",
    "\n",
    "thetas = np.zeros((len(texts), 100))\n",
    "for i, c in enumerate(corpus):\n",
    "    for ti, v in model[c]:\n",
    "        thetas[i, ti] += v\n",
    "\n",
    "distances = distance.squareform(distance.pdist(thetas))\n",
    "large = distances.max() + 1\n",
    "for i in range(len(distances)):\n",
    "    distances[i, i] = large\n",
    "\n",
    "print(otexts[1])\n",
    "print()\n",
    "print()\n",
    "print()\n",
    "print(otexts[distances[1].argmin()])\n"
   ]
  },
  {
   "cell_type": "code",
   "execution_count": 7,
   "metadata": {
    "collapsed": false
   },
   "outputs": [
    {
     "name": "stdout",
     "output_type": "stream",
     "text": [
      "NLTK Downloader\n",
      "---------------------------------------------------------------------------\n",
      "    d) Download   l) List    u) Update   c) Config   h) Help   q) Quit\n",
      "---------------------------------------------------------------------------\n",
      "Downloader> d\n",
      "\n",
      "Download which package (l=list; x=cancel)?\n",
      "  Identifier> stopwords\n",
      "    Downloading package stopwords to /home/jovyan/nltk_data...\n",
      "      Unzipping corpora/stopwords.zip.\n",
      "\n",
      "---------------------------------------------------------------------------\n",
      "    d) Download   l) List    u) Update   c) Config   h) Help   q) Quit\n",
      "---------------------------------------------------------------------------\n",
      "Downloader> q\n"
     ]
    },
    {
     "data": {
      "text/plain": [
       "True"
      ]
     },
     "execution_count": 7,
     "metadata": {},
     "output_type": "execute_result"
    }
   ],
   "source": [
    "nltk.download()"
   ]
  },
  {
   "cell_type": "code",
   "execution_count": null,
   "metadata": {
    "collapsed": true
   },
   "outputs": [],
   "source": []
  },
  {
   "cell_type": "code",
   "execution_count": null,
   "metadata": {
    "collapsed": true
   },
   "outputs": [],
   "source": []
  }
 ],
 "metadata": {
  "kernelspec": {
   "display_name": "Python 3",
   "language": "python",
   "name": "python3"
  },
  "language_info": {
   "codemirror_mode": {
    "name": "ipython",
    "version": 3
   },
   "file_extension": ".py",
   "mimetype": "text/x-python",
   "name": "python",
   "nbconvert_exporter": "python",
   "pygments_lexer": "ipython3",
   "version": "3.5.1"
  }
 },
 "nbformat": 4,
 "nbformat_minor": 0
}
