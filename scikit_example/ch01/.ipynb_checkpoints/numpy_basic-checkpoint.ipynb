{
 "cells": [
  {
   "cell_type": "code",
   "execution_count": 3,
   "metadata": {
    "collapsed": false
   },
   "outputs": [
    {
     "name": "stdout",
     "output_type": "stream",
     "text": [
      "1\n",
      "(6,)\n"
     ]
    }
   ],
   "source": [
    "import numpy as np\n",
    "\n",
    "a = np.array([0,1,2,3,4,5])\n",
    "\n",
    "print(a.ndim)\n",
    "print(a.shape)"
   ]
  },
  {
   "cell_type": "code",
   "execution_count": 13,
   "metadata": {
    "collapsed": false
   },
   "outputs": [
    {
     "name": "stdout",
     "output_type": "stream",
     "text": [
      "2\n",
      "(3, 2)\n",
      "[[ 0  1]\n",
      " [77  3]\n",
      " [ 4  5]]\n",
      "[ 0  1 77  3  4  5]\n"
     ]
    }
   ],
   "source": [
    "b = a.reshape((3,2))\n",
    "\n",
    "print(b.ndim)\n",
    "print(b.shape)\n",
    "\n",
    "b[1][0]= 77\n",
    "print(b)\n",
    "print(a)"
   ]
  },
  {
   "cell_type": "code",
   "execution_count": 17,
   "metadata": {
    "collapsed": false
   },
   "outputs": [
    {
     "name": "stdout",
     "output_type": "stream",
     "text": [
      "[[ 0  1]\n",
      " [77  3]\n",
      " [ 4  5]]\n",
      "[[-99   1]\n",
      " [ 77   3]\n",
      " [  4   5]]\n",
      "[ 0  1 77  3  4  5]\n"
     ]
    }
   ],
   "source": [
    "c = a.reshape((3,2)).copy()\n",
    "print(c)\n",
    "c[0][0] = -99\n",
    "print(c)\n",
    "print(a)\n"
   ]
  },
  {
   "cell_type": "code",
   "execution_count": 18,
   "metadata": {
    "collapsed": false
   },
   "outputs": [
    {
     "data": {
      "text/plain": [
       "array([  0,   2, 154,   6,   8,  10])"
      ]
     },
     "execution_count": 18,
     "metadata": {},
     "output_type": "execute_result"
    }
   ],
   "source": [
    "a * 2"
   ]
  },
  {
   "cell_type": "code",
   "execution_count": 19,
   "metadata": {
    "collapsed": false
   },
   "outputs": [
    {
     "data": {
      "text/plain": [
       "array([   0,    1, 5929,    9,   16,   25])"
      ]
     },
     "execution_count": 19,
     "metadata": {},
     "output_type": "execute_result"
    }
   ],
   "source": [
    "a ** 2"
   ]
  },
  {
   "cell_type": "code",
   "execution_count": 22,
   "metadata": {
    "collapsed": false
   },
   "outputs": [
    {
     "data": {
      "text/plain": [
       "array([False, False,  True, False, False,  True], dtype=bool)"
      ]
     },
     "execution_count": 22,
     "metadata": {},
     "output_type": "execute_result"
    }
   ],
   "source": [
    "a[np.array([2,3,4])]\n",
    "\n",
    "a > 4"
   ]
  },
  {
   "cell_type": "code",
   "execution_count": 24,
   "metadata": {
    "collapsed": false
   },
   "outputs": [
    {
     "data": {
      "text/plain": [
       "array([77,  5])"
      ]
     },
     "execution_count": 24,
     "metadata": {},
     "output_type": "execute_result"
    }
   ],
   "source": [
    "a[a>4]"
   ]
  },
  {
   "cell_type": "code",
   "execution_count": 27,
   "metadata": {
    "collapsed": false
   },
   "outputs": [
    {
     "data": {
      "text/plain": [
       "array([0, 1, 4, 3, 4, 4])"
      ]
     },
     "execution_count": 27,
     "metadata": {},
     "output_type": "execute_result"
    }
   ],
   "source": [
    "a[a>4] = 4\n",
    "a"
   ]
  },
  {
   "cell_type": "code",
   "execution_count": 28,
   "metadata": {
    "collapsed": false
   },
   "outputs": [
    {
     "data": {
      "text/plain": [
       "array([0, 1, 4, 3, 4, 4])"
      ]
     },
     "execution_count": 28,
     "metadata": {},
     "output_type": "execute_result"
    }
   ],
   "source": [
    "a.clip(0,4)"
   ]
  },
  {
   "cell_type": "code",
   "execution_count": 1,
   "metadata": {
    "collapsed": false
   },
   "outputs": [
    {
     "name": "stdout",
     "output_type": "stream",
     "text": [
      "Normal Python: 0.797673 sec\n",
      "Naive NumPy: 1.612488 sec\n",
      "Good NumPy: 0.011324 sec\n"
     ]
    }
   ],
   "source": [
    "import timeit\n",
    "\n",
    "normal_py_sec = timeit.timeit('sum(x*x for x in range(1000))',\n",
    "                              number=10000)\n",
    "naive_np_sec = timeit.timeit('sum(na*na)',\n",
    "                             setup=\"import numpy as np; na=np.arange(1000)\",\n",
    "                             number=10000)\n",
    "good_np_sec = timeit.timeit('na.dot(na)',\n",
    "                            setup=\"import numpy as np; na=np.arange(1000)\",\n",
    "                            number=10000)\n",
    "\n",
    "print(\"Normal Python: %f sec\" % normal_py_sec)\n",
    "print(\"Naive NumPy: %f sec\" % naive_np_sec)\n",
    "print(\"Good NumPy: %f sec\" % good_np_sec)"
   ]
  },
  {
   "cell_type": "code",
   "execution_count": 6,
   "metadata": {
    "collapsed": false
   },
   "outputs": [
    {
     "name": "stdout",
     "output_type": "stream",
     "text": [
      "The slowest run took 35.49 times longer than the fastest. This could mean that an intermediate result is being cached.\n",
      "1000000 loops, best of 3: 221 ns per loop\n"
     ]
    }
   ],
   "source": [
    "–"
   ]
  }
 ],
 "metadata": {
  "kernelspec": {
   "display_name": "Python 3",
   "language": "python",
   "name": "python3"
  },
  "language_info": {
   "codemirror_mode": {
    "name": "ipython",
    "version": 3
   },
   "file_extension": ".py",
   "mimetype": "text/x-python",
   "name": "python",
   "nbconvert_exporter": "python",
   "pygments_lexer": "ipython3",
   "version": "3.5.1"
  }
 },
 "nbformat": 4,
 "nbformat_minor": 0
}
