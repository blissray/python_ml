{
 "cells": [
  {
   "cell_type": "code",
   "execution_count": 61,
   "metadata": {
    "collapsed": false,
    "scrolled": false
   },
   "outputs": [
    {
     "name": "stdout",
     "output_type": "stream",
     "text": [
      "0 0.68353 [[-1.02580941 -0.98710144 -0.98708922]]\n",
      "10000 0.6753 [[-1.04968357 -0.97516829 -0.9751482 ]]\n",
      "20000 0.668257 [[-1.07177019 -0.96412688 -0.96410304]]\n",
      "30000 0.662225 [[-1.09220719 -0.95390838 -0.95388454]]\n",
      "40000 0.657057 [[-1.11112297 -0.94444877 -0.94442832]]\n",
      "50000 0.652626 [[-1.1286366  -0.93568867 -0.93567485]]\n",
      "60000 0.648824 [[-1.14485765 -0.92757338 -0.92756903]]\n",
      "70000 0.645559 [[-1.15988743 -0.92005241 -0.92006022]]\n",
      "80000 0.642754 [[-1.17381895 -0.91307932 -0.91310179]]\n",
      "90000 0.640341 [[-1.18673766 -0.90661144 -0.9066509 ]]\n",
      "99999 0.640341 [[-1.18673766 -0.90661144 -0.9066509 ]]\n"
     ]
    }
   ],
   "source": [
    "import tensorflow as tf\n",
    "import numpy as np \n",
    "import scipy.stats as ss\n",
    "\n",
    "test_data = np.loadtxt(\"binary.csv\", unpack=True, \n",
    "                       dtype={\n",
    "               'names': (\n",
    "                   'admit', 'gre', 'gpa', 'rank'), \n",
    "               'formats': (\n",
    "                   np.float32, np.float32, np.float32, np.float32)}, \n",
    "           delimiter= ',', skiprows=1)\n",
    "\n",
    "y_data = test_data[0]\n",
    "x_data = test_data[1:]\n",
    "x_data = np.array(ss.zscore(x_data))\n",
    "\n",
    "X = tf.placeholder(tf.float32)\n",
    "Y = tf.placeholder(tf.float32)\n",
    "\n",
    "W = tf.Variable(tf.random_uniform([1, len(x_data)], -1.0, -1.0))\n",
    "\n",
    "h = tf.matmul(W, X)\n",
    "hypothesis = tf.div(1., 1. + tf.exp(-h))\n",
    "cost = -1 * tf.reduce_mean(Y * tf.log(hypothesis) + (1-Y) * tf.log(1-hypothesis))\n",
    "\n",
    "a = tf.Variable(0.1)\n",
    "optimizer = tf.train.GradientDescentOptimizer(a)\n",
    "train = optimizer.minimize(cost)\n",
    "\n",
    "init = tf.initialize_all_variables()\n",
    "\n",
    "\n",
    "sess = tf.Session()\n",
    "sess.run(init)\n",
    "\n",
    "\n",
    "for i in range(100000):\n",
    "    if i % 10000 == 0:\n",
    "        sess.run(train, feed_dict={X: x_data, Y:y_data})\n",
    "        print (i, sess.run(cost, feed_dict={X: x_data, Y:y_data}), sess.run(W))\n",
    "\n"
   ]
  },
  {
   "cell_type": "code",
   "execution_count": null,
   "metadata": {
    "collapsed": true
   },
   "outputs": [],
   "source": []
  }
 ],
 "metadata": {
  "kernelspec": {
   "display_name": "Python 3",
   "language": "python",
   "name": "python3"
  },
  "language_info": {
   "codemirror_mode": {
    "name": "ipython",
    "version": 3
   },
   "file_extension": ".py",
   "mimetype": "text/x-python",
   "name": "python",
   "nbconvert_exporter": "python",
   "pygments_lexer": "ipython3",
   "version": "3.5.1"
  }
 },
 "nbformat": 4,
 "nbformat_minor": 0
}
