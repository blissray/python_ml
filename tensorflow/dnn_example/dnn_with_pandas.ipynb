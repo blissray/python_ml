{
 "cells": [
  {
   "cell_type": "code",
   "execution_count": 33,
   "metadata": {
    "collapsed": false
   },
   "outputs": [
    {
     "data": {
      "text/html": [
       "<div>\n",
       "<table border=\"1\" class=\"dataframe\">\n",
       "  <thead>\n",
       "    <tr style=\"text-align: right;\">\n",
       "      <th></th>\n",
       "      <th>female</th>\n",
       "      <th>ses</th>\n",
       "      <th>schtyp</th>\n",
       "      <th>prog</th>\n",
       "      <th>read</th>\n",
       "      <th>write</th>\n",
       "      <th>math</th>\n",
       "      <th>science</th>\n",
       "      <th>socst</th>\n",
       "      <th>honors</th>\n",
       "      <th>awards</th>\n",
       "    </tr>\n",
       "  </thead>\n",
       "  <tbody>\n",
       "    <tr>\n",
       "      <th>199</th>\n",
       "      <td>male</td>\n",
       "      <td>middle</td>\n",
       "      <td>public</td>\n",
       "      <td>academic</td>\n",
       "      <td>73.0</td>\n",
       "      <td>62.0</td>\n",
       "      <td>73.0</td>\n",
       "      <td>69.0</td>\n",
       "      <td>66.0</td>\n",
       "      <td>enrolled</td>\n",
       "      <td>3.0</td>\n",
       "    </tr>\n",
       "  </tbody>\n",
       "</table>\n",
       "</div>"
      ],
      "text/plain": [
       "    female     ses  schtyp      prog  read  write  math  science  socst  \\\n",
       "199   male  middle  public  academic  73.0   62.0  73.0     69.0   66.0   \n",
       "\n",
       "       honors  awards  \n",
       "199  enrolled     3.0  "
      ]
     },
     "execution_count": 33,
     "metadata": {},
     "output_type": "execute_result"
    }
   ],
   "source": [
    "import pandas as pd\n",
    "import scipy.stats as ss\n",
    "import numpy as np\n",
    "\n",
    "df = pd.read_stata('hsbdemo.dta')\n",
    "df = df.ix[:,1:]\n",
    "df = df.ix[:,:-1]\n",
    "df[199:]"
   ]
  },
  {
   "cell_type": "code",
   "execution_count": 34,
   "metadata": {
    "collapsed": false
   },
   "outputs": [],
   "source": [
    "y_data = pd.get_dummies(df.ix[:,\"prog\"]).as_matrix()\n",
    "x_data_df = df.drop([\"prog\"],axis=1)"
   ]
  },
  {
   "cell_type": "code",
   "execution_count": 37,
   "metadata": {
    "collapsed": false
   },
   "outputs": [],
   "source": [
    "import scipy.stats as ss\n",
    "\n",
    "x_data = pd.get_dummies(x_data_df).as_matrix()\n",
    "x_data[:,1:] = np.array(ss.zscore(x_data[:,1:]))\n",
    "\n",
    "training_data_rate = 0.7\n",
    "random_index = np.random.choice(len(x_data), len(x_data))\n",
    "training_data_split_index = int(len(random_index) * training_data_rate) \n",
    "\n",
    "training_x_data = x_data[:training_data_split_index]\n",
    "test_x_data = x_data[training_data_split_index:]\n",
    "\n",
    "training_y_data = y_data[:training_data_split_index]\n",
    "test_y_data = y_data[training_data_split_index:]"
   ]
  },
  {
   "cell_type": "code",
   "execution_count": 39,
   "metadata": {
    "collapsed": false
   },
   "outputs": [
    {
     "name": "stdout",
     "output_type": "stream",
     "text": [
      "Optimization Finished!\n",
      "Accuracy: 0.733333\n"
     ]
    }
   ],
   "source": [
    "import tensorflow as tf\n",
    "\n",
    "learning_rate = 0.001\n",
    "\n",
    "# Network Parameters\n",
    "n_hidden_1 = 16 # 1st layer number of features\n",
    "n_hidden_2 = 1 # 2nd layer number of features\n",
    "n_hidden_3 = 1 # 3th layer number of features\n",
    "n_hidden_4 = 256 # 4th layer number of features\n",
    "n_hidden_5 = 16 # 5th layer number of features\n",
    "\n",
    "n_input = len(x_data[0])\n",
    "n_classes = len(y_data[0])\n",
    "\n",
    "x = tf.placeholder(\"float\", [None, n_input])\n",
    "y = tf.placeholder(\"float\", [None, n_classes])\n",
    "dropout_rate = tf.placeholder(\"float\")\n",
    "\n",
    "def multilayer_perceptron(x, weights, biases):\n",
    "    # Hidden layer with RELU activation\n",
    "    \n",
    "    \n",
    "    _layer_1 = tf.nn.relu(tf.add(tf.matmul(x, weights['h1']), biases['b1']))\n",
    "    layer_1 = tf.nn.dropout(_layer_1, dropout_rate)\n",
    "    _layer_2 = tf.nn.relu(tf.add(tf.matmul(layer_1, weights['h2']), biases['b2']))\n",
    "    layer_2 = tf.nn.dropout(_layer_2, dropout_rate)\n",
    "    _layer_3 = tf.nn.relu(tf.add(tf.matmul(layer_2, weights['h3']), biases['b3']))\n",
    "    layer_3 = tf.nn.dropout(_layer_3, dropout_rate)\n",
    "    _layer_4 = tf.nn.relu(tf.add(tf.matmul(layer_3, weights['h4']), biases['b4']))\n",
    "    layer_4 = tf.nn.dropout(_layer_4, dropout_rate)\n",
    "    _layer_5 = tf.nn.relu(tf.add(tf.matmul(layer_4, weights['h5']), biases['b5']))\n",
    "    layer_5 = tf.nn.dropout(_layer_5, dropout_rate)\n",
    "    \n",
    "    out_layer = tf.matmul(layer_5, weights['out']) + biases['out']\n",
    "    return out_layer\n",
    "\n",
    "weights = {\n",
    "#     'h1': tf.get_variable(\"W1\", shape = [n_input, n_hidden_1], initializer=tf.contrib.layers.xavier_initializer()),\n",
    "#     'h2': tf.get_variable(\"W2\", shape = [n_hidden_1, n_hidden_2], initializer=tf.contrib.layers.xavier_initializer()),\n",
    "#     'h3': tf.get_variable(\"W3\", shape = [n_hidden_2, n_hidden_3], initializer=tf.contrib.layers.xavier_initializer()),\n",
    "#     'h4': tf.get_variable(\"W4\", shape = [n_hidden_3, n_hidden_4], initializer=tf.contrib.layers.xavier_initializer()),\n",
    "#     'h5': tf.get_variable(\"W5\", shape = [n_hidden_4, n_hidden_5], initializer=tf.contrib.layers.xavier_initializer()),\n",
    "#     'out': tf.get_variable(\"out\", shape = [n_hidden_5, n_classes], initializer=tf.contrib.layers.xavier_initializer())\n",
    "\n",
    "\n",
    "    'h1': tf.Variable(tf.random_normal([n_input, n_hidden_1])),\n",
    "    'h2': tf.Variable(tf.random_normal([n_hidden_1, n_hidden_2])),\n",
    "    'h3': tf.Variable(tf.random_normal([n_hidden_2, n_hidden_3])),\n",
    "    'h4': tf.Variable(tf.random_normal([n_hidden_3, n_hidden_4])),\n",
    "    'h5': tf.Variable(tf.random_normal([n_hidden_4, n_hidden_5])),\n",
    "    'out': tf.Variable(tf.random_normal([n_hidden_5, n_classes]))\n",
    "}\n",
    "\n",
    "biases = {\n",
    "    'b1': tf.Variable(tf.random_normal([n_hidden_1])),\n",
    "    'b2': tf.Variable(tf.random_normal([n_hidden_2])),\n",
    "    'b3': tf.Variable(tf.random_normal([n_hidden_3])),\n",
    "    'b4': tf.Variable(tf.random_normal([n_hidden_4])),\n",
    "    'b5': tf.Variable(tf.random_normal([n_hidden_5])),\n",
    "    'out': tf.Variable(tf.random_normal([n_classes]))\n",
    "}\n",
    "\n",
    "# Construct model\n",
    "pred = multilayer_perceptron(x, weights, biases)\n",
    "\n",
    "# Define loss and optimizer\n",
    "cost = tf.reduce_mean(tf.nn.softmax_cross_entropy_with_logits(pred, y))\n",
    "optimizer = tf.train.AdamOptimizer(learning_rate=learning_rate).minimize(cost)\n",
    "\n",
    "# Initializing the variables\n",
    "init = tf.initialize_all_variables()\n",
    "\n",
    "# Launch the graph\n",
    "with tf.Session() as sess:\n",
    "    sess.run(init)\n",
    "\n",
    "    for i in range(1000):\n",
    "        _, c = sess.run([optimizer, cost], feed_dict={x: training_x_data, y: training_y_data, dropout_rate: 0.9})\n",
    "    print (\"Optimization Finished!\")\n",
    "    \n",
    "    # Test model\n",
    "    correct_prediction = tf.equal(tf.argmax(pred, 1), tf.argmax(y, 1))\n",
    "    # Calculate accuracy\n",
    "    accuracy = tf.reduce_mean(tf.cast(correct_prediction, \"float\"))\n",
    "    print (\"Accuracy:\", accuracy.eval({x: test_x_data, y: test_y_data, dropout_rate: 1}))"
   ]
  }
 ],
 "metadata": {
  "kernelspec": {
   "display_name": "Python 3",
   "language": "python",
   "name": "python3"
  },
  "language_info": {
   "codemirror_mode": {
    "name": "ipython",
    "version": 3
   },
   "file_extension": ".py",
   "mimetype": "text/x-python",
   "name": "python",
   "nbconvert_exporter": "python",
   "pygments_lexer": "ipython3",
   "version": "3.5.1"
  }
 },
 "nbformat": 4,
 "nbformat_minor": 0
}
