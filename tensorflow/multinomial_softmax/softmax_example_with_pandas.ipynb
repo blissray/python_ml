{
 "cells": [
  {
   "cell_type": "code",
   "execution_count": 38,
   "metadata": {
    "collapsed": false
   },
   "outputs": [
    {
     "data": {
      "text/html": [
       "<div>\n",
       "<table border=\"1\" class=\"dataframe\">\n",
       "  <thead>\n",
       "    <tr style=\"text-align: right;\">\n",
       "      <th></th>\n",
       "      <th>female</th>\n",
       "      <th>ses</th>\n",
       "      <th>schtyp</th>\n",
       "      <th>prog</th>\n",
       "      <th>read</th>\n",
       "      <th>write</th>\n",
       "      <th>math</th>\n",
       "      <th>science</th>\n",
       "      <th>socst</th>\n",
       "      <th>honors</th>\n",
       "      <th>awards</th>\n",
       "    </tr>\n",
       "  </thead>\n",
       "  <tbody>\n",
       "    <tr>\n",
       "      <th>199</th>\n",
       "      <td>male</td>\n",
       "      <td>middle</td>\n",
       "      <td>public</td>\n",
       "      <td>academic</td>\n",
       "      <td>73.0</td>\n",
       "      <td>62.0</td>\n",
       "      <td>73.0</td>\n",
       "      <td>69.0</td>\n",
       "      <td>66.0</td>\n",
       "      <td>enrolled</td>\n",
       "      <td>3.0</td>\n",
       "    </tr>\n",
       "  </tbody>\n",
       "</table>\n",
       "</div>"
      ],
      "text/plain": [
       "    female     ses  schtyp      prog  read  write  math  science  socst  \\\n",
       "199   male  middle  public  academic  73.0   62.0  73.0     69.0   66.0   \n",
       "\n",
       "       honors  awards  \n",
       "199  enrolled     3.0  "
      ]
     },
     "execution_count": 38,
     "metadata": {},
     "output_type": "execute_result"
    }
   ],
   "source": [
    "import pandas as pd\n",
    "import scipy.stats as ss\n",
    "import numpy as np\n",
    "\n",
    "df = pd.read_stata('hsbdemo.dta')\n",
    "df = df.ix[:,1:]\n",
    "df = df.ix[:,:-1]\n",
    "df[199:]"
   ]
  },
  {
   "cell_type": "code",
   "execution_count": 28,
   "metadata": {
    "collapsed": false
   },
   "outputs": [],
   "source": [
    "y_data = pd.get_dummies(df.ix[:,\"honors\"]).as_matrix()\n",
    "x_data_df = df.drop([\"honors\"],axis=1)\n",
    "\n",
    "x_data_df.insert(0, \"bias\", 1)"
   ]
  },
  {
   "cell_type": "code",
   "execution_count": 29,
   "metadata": {
    "collapsed": false
   },
   "outputs": [],
   "source": [
    "x_data = pd.get_dummies(x_data_df).as_matrix()\n",
    "\n",
    "import scipy.stats as ss\n",
    "x_data[:,1:] = np.array(ss.zscore(x_data[:,1:]))"
   ]
  },
  {
   "cell_type": "code",
   "execution_count": 30,
   "metadata": {
    "collapsed": false
   },
   "outputs": [
    {
     "name": "stdout",
     "output_type": "stream",
     "text": [
      "0 's iteration\n",
      "0.692156\n",
      "20000 's iteration\n",
      "0.119084\n"
     ]
    }
   ],
   "source": [
    "import tensorflow as tf\n",
    "\n",
    "X = tf.placeholder(\"float\", [None, len(x_data[0])])\n",
    "Y = tf.placeholder(\"float\", [None, len(y_data[0])])\n",
    "\n",
    "W = tf.Variable(tf.zeros([len(x_data[0]), len(y_data[0])]))\n",
    "\n",
    "hypothesis = tf.nn.softmax(tf.matmul(X,W))\n",
    "learning_rate = 0.001\n",
    "\n",
    "cost = tf.reduce_mean(-1 * tf.reduce_sum(Y * tf.log(hypothesis), reduction_indices=1))\n",
    "optimizer = tf.train.GradientDescentOptimizer(learning_rate).minimize(cost)\n",
    "\n",
    "init = tf.initialize_all_variables()\n",
    "\n",
    "sess = tf.Session()\n",
    "sess.run(init)\n",
    "    \n",
    "for i in range(40001):\n",
    "    sess.run(optimizer, feed_dict={X: x_data, Y:y_data})\n",
    "    if i % 20000 == 0:\n",
    "        print (\"%d 's iteration\" % i)\n",
    "        print (sess.run(cost, feed_dict={X: x_data, Y:y_data}))"
   ]
  },
  {
   "cell_type": "code",
   "execution_count": 31,
   "metadata": {
    "collapsed": false,
    "scrolled": false
   },
   "outputs": [
    {
     "name": "stderr",
     "output_type": "stream",
     "text": [
      "/Users/sungchulchoi/miniconda3/envs/tensorflow/lib/python3.5/site-packages/ipykernel/__main__.py:5: VisibleDeprecationWarning: using a non-integer number instead of an integer will result in an error in the future\n"
     ]
    },
    {
     "name": "stdout",
     "output_type": "stream",
     "text": [
      "0.996833333333\n"
     ]
    }
   ],
   "source": [
    "import numpy as np\n",
    "\n",
    "total_value = 0.0\n",
    "for count in range(100):\n",
    "    test_index = np.random.choice(len(x_data), len(x_data) * 0.3)\n",
    "    number_of_test = len(x_data) * 0.3\n",
    "    hypotehsis_value = sess.run(hypothesis, feed_dict={X:x_data[test_index]})\n",
    "    hypotehsis_result = sess.run( tf.arg_max(hypotehsis_value,1))\n",
    "\n",
    "    test_result = [np.argmax(predict) ==  np.argmax(original) \n",
    "                   for predict, original in zip(hypotehsis_value, y_data[test_index])]\n",
    "\n",
    "\n",
    "    total_value += np.sum(test_result) / number_of_test\n",
    "\n",
    "print( total_value / 100)"
   ]
  }
 ],
 "metadata": {
  "kernelspec": {
   "display_name": "Python 3",
   "language": "python",
   "name": "python3"
  },
  "language_info": {
   "codemirror_mode": {
    "name": "ipython",
    "version": 3
   },
   "file_extension": ".py",
   "mimetype": "text/x-python",
   "name": "python",
   "nbconvert_exporter": "python",
   "pygments_lexer": "ipython3",
   "version": "3.5.1"
  }
 },
 "nbformat": 4,
 "nbformat_minor": 0
}
