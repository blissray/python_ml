{
 "cells": [
  {
   "cell_type": "code",
   "execution_count": 81,
   "metadata": {
    "collapsed": false
   },
   "outputs": [
    {
     "name": "stdout",
     "output_type": "stream",
     "text": [
      "[[ 0.  0.]\n",
      " [ 1.  0.]\n",
      " [ 0.  1.]\n",
      " [ 1.  1.]]\n",
      "0.767586 [[-0.66066641 -0.63033187]]\n",
      "0.731002 [[-0.46840045 -0.44139126]]\n",
      "0.711728 [[-0.32864007 -0.30469793]]\n",
      "0.702092 [[-0.22957402 -0.20839958]]\n",
      "0.697412 [[-0.16028102 -0.14157565]]\n",
      "0.695171 [[-0.1121084 -0.0955933]]\n",
      "[[ 1.        ]\n",
      " [ 0.97200215]\n",
      " [ 0.97611988]\n",
      " [ 0.94826043]]\n"
     ]
    }
   ],
   "source": [
    "import tensorflow as tf\n",
    "import numpy as np\n",
    "\n",
    "test_data = np.loadtxt(\"train.txt\")\n",
    "\n",
    "x_data = test_data[:, :-1]\n",
    "y_data = test_data[:, -1]\n",
    "\n",
    "X = tf.placeholder(tf.float32)\n",
    "Y = tf.placeholder(tf.float32)\n",
    "\n",
    "W = tf.Variable(tf.random_uniform([1,len(x_data[0])], -1.0, 1.0))\n",
    "\n",
    "h = tf.matmul(X, tf.transpose(W))\n",
    "hypothesis = tf.div(1. , 1 + tf.exp(-h))\n",
    "\n",
    "cost = - tf.reduce_mean(Y*tf.log(hypothesis) + (1-Y) * tf.log(1-hypothesis))\n",
    "\n",
    "a = tf.Variable(0.01)\n",
    "optimizer = tf.train.GradientDescentOptimizer(a)\n",
    "train = optimizer.minimize(cost)\n",
    "\n",
    "sess = tf.Session()\n",
    "init = tf.initialize_all_variables()\n",
    "\n",
    "sess.run(init)\n",
    "\n",
    "for i in range(1001):\n",
    "    sess.run(train, feed_dict={X:x_data, Y:y_data})\n",
    "    if i % 200 == 0:\n",
    "        print (sess.run(cost, feed_dict={X:x_data, Y:y_data}), sess.run(W))\n",
    "\n",
    "result = sess.run(hypothesis, feed_dict={X:x_data})\n",
    "\n",
    "print(result + 0.5)"
   ]
  },
  {
   "cell_type": "code",
   "execution_count": 5,
   "metadata": {
    "collapsed": false
   },
   "outputs": [
    {
     "name": "stdout",
     "output_type": "stream",
     "text": [
      "[[ 0.]\n",
      " [ 1.]\n",
      " [ 1.]\n",
      " [ 0.]]\n",
      "[ 0.99419934  1.00608718  1.00307012  1.00131321  0.99977899  0.99859089\n",
      "  0.99867344  0.99926347  0.99781549  0.99934983]\n",
      "0.826733\n",
      "[ 2.88528275  2.29084468  0.95198518  1.0670048   1.1713804   1.24151492\n",
      "  1.08259404  1.89160573 -0.90175694  1.12881184]\n",
      "0.0233341\n",
      "[ 3.57902932  2.4683032   0.95394999  1.09684265  1.26232862  1.31020498\n",
      "  1.06391382  2.09482455 -1.17418289  1.12366819]\n",
      "0.00764828\n",
      "[[ 0.]\n",
      " [ 1.]\n",
      " [ 1.]\n",
      " [ 0.]]\n"
     ]
    }
   ],
   "source": [
    "import tensorflow as tf\n",
    "import numpy as np\n",
    "import scipy as ss\n",
    "\n",
    "\n",
    "test_data = np.loadtxt(\"train.txt\")\n",
    "x_data = test_data[:, :-1]\n",
    "y_data = test_data[:, -1].reshape(4,1)\n",
    "\n",
    "print (y_data)\n",
    "# test_data = np.loadtxt(\"train.txt\", unpack=True)\n",
    "# x_data = test_data[:-1]\n",
    "# y_data = test_data[-1]\n",
    "\n",
    "X = tf.placeholder(tf.float32)\n",
    "Y = tf.placeholder(tf.float32)\n",
    "\n",
    "W1 = tf.Variable(tf.random_uniform([2, 10], -1.0, 1.0))\n",
    "W2 = tf.Variable(tf.random_uniform([10, 1], -1.0, 1.0))\n",
    "\n",
    "b1 = tf.Variable(tf.ones([10]), name=\"bias1\")\n",
    "b2 = tf.Variable(tf.ones([1]), name=\"bias2\")\n",
    "\n",
    "L2 = tf.sigmoid( tf.matmul(X, W1) + b1 ) \n",
    "hypothesis = tf.sigmoid ( tf.matmul(L2,W2) + tf.transpose(b2))\n",
    "\n",
    "cost = -1 *  tf.reduce_mean(Y*tf.log(hypothesis) + (1-Y) * tf.log(1-hypothesis))\n",
    "\n",
    "a = tf.Variable(0.1)\n",
    "optimizer = tf.train.GradientDescentOptimizer(a)\n",
    "train = optimizer.minimize(cost)\n",
    "\n",
    "sess = tf.Session()\n",
    "init = tf.initialize_all_variables()\n",
    "sess.run(init)\n",
    "\n",
    "for i in range(10001):\n",
    "    sess.run(train, feed_dict={X:x_data, Y:y_data})\n",
    "    if i % 5000 == 0:\n",
    "        print (sess.run(b1))\n",
    "        print (sess.run(cost, feed_dict={X:x_data, Y:y_data}))\n",
    "\n",
    "result = tf.floor(hypothesis+0.5)\n",
    "print (sess.run(result, feed_dict={X:x_data, Y:y_data}))"
   ]
  }
 ],
 "metadata": {
  "kernelspec": {
   "display_name": "Python 3",
   "language": "python",
   "name": "python3"
  },
  "language_info": {
   "codemirror_mode": {
    "name": "ipython",
    "version": 3
   },
   "file_extension": ".py",
   "mimetype": "text/x-python",
   "name": "python",
   "nbconvert_exporter": "python",
   "pygments_lexer": "ipython3",
   "version": "3.5.1"
  }
 },
 "nbformat": 4,
 "nbformat_minor": 0
}
