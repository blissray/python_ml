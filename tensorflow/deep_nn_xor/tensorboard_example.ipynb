{
 "cells": [
  {
   "cell_type": "code",
   "execution_count": 9,
   "metadata": {
    "collapsed": false
   },
   "outputs": [
    {
     "name": "stdout",
     "output_type": "stream",
     "text": [
      "End of Programe\n"
     ]
    }
   ],
   "source": [
    "import tensorflow as tf\n",
    "import numpy as np\n",
    "import scipy as ss\n",
    "\n",
    "\n",
    "test_data = np.loadtxt(\"train.txt\")\n",
    "x_data = test_data[:, :-1]\n",
    "y_data = test_data[:, -1].reshape(4,1)\n",
    "\n",
    "X = tf.placeholder(tf.float32, name=\"X-input\")\n",
    "Y = tf.placeholder(tf.float32, name=\"Y-input\")\n",
    "y_hist = tf.histogram_summary(\"y\", Y)\n",
    "\n",
    "W1 = tf.Variable(tf.random_uniform([2, 10], -1.0, 1.0), name=\"weight_layer1\")\n",
    "W2 = tf.Variable(tf.random_uniform([10, 1], -1.0, 1.0), name=\"weight_layer2\")\n",
    "\n",
    "w1_hist = tf.histogram_summary(\"W1\", W1)\n",
    "w2_hist = tf.histogram_summary(\"W2\", W2)\n",
    "\n",
    "b1 = tf.Variable(tf.ones([10]), name=\"bias1\")\n",
    "b2 = tf.Variable(tf.ones([1]), name=\"bias2\")\n",
    "\n",
    "b1_hist = tf.histogram_summary(\"B1\", b1)\n",
    "b2_hist = tf.histogram_summary(\"B2\", b2)\n",
    "\n",
    "\n",
    "with tf.name_scope(\"layer_2\") as scope:\n",
    "    L2 = tf.nn.relu( tf.matmul(X, W1) + b1 ) \n",
    "\n",
    "with tf.name_scope(\"layer_result\") as scope:\n",
    "    hypothesis = tf.sigmoid ( tf.matmul(L2,W2) + tf.transpose(b2))\n",
    "\n",
    "with tf.name_scope(\"cost\") as scope:\n",
    "    cost = -1 *  tf.reduce_mean(Y*tf.log(hypothesis) + (1-Y) * tf.log(1-hypothesis))\n",
    "    cost_summ = tf.histogram_summary(\"cost\", cost)\n",
    "\n",
    "\n",
    "a = tf.Variable(0.001)\n",
    "with tf.name_scope(\"train\") as scope:\n",
    "    optimizer = tf.train.GradientDescentOptimizer(a)\n",
    "    train = optimizer.minimize(cost)\n",
    "\n",
    "with tf.Session() as sess:\n",
    "    \n",
    "    merged = tf.merge_summary([cost_summ, w1_hist, w2_hist, b2_hist, b1_hist])\n",
    "    writer = tf.train.SummaryWriter(\"xor_logs\", sess.graph)\n",
    "\n",
    "    init = tf.initialize_all_variables() \n",
    "    sess.run(init)\n",
    "\n",
    "\n",
    "    for i in range(10000):\n",
    "        summary, _ =   sess.run( [merged, train], feed_dict={X:x_data, Y:y_data} )\n",
    "        writer.add_summary(summary)\n",
    "    \n",
    "    \n",
    "    print (\"End of Programe\")"
   ]
  },
  {
   "cell_type": "code",
   "execution_count": null,
   "metadata": {
    "collapsed": true
   },
   "outputs": [],
   "source": []
  }
 ],
 "metadata": {
  "kernelspec": {
   "display_name": "Python 3",
   "language": "python",
   "name": "python3"
  },
  "language_info": {
   "codemirror_mode": {
    "name": "ipython",
    "version": 3
   },
   "file_extension": ".py",
   "mimetype": "text/x-python",
   "name": "python",
   "nbconvert_exporter": "python",
   "pygments_lexer": "ipython3",
   "version": "3.5.1"
  }
 },
 "nbformat": 4,
 "nbformat_minor": 0
}
