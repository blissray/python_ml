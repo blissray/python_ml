{
 "cells": [
  {
   "cell_type": "code",
   "execution_count": 25,
   "metadata": {
    "collapsed": false
   },
   "outputs": [
    {
     "data": {
      "image/png": "[encoded data removed]",
      "text/plain": [
       "<matplotlib.figure.Figure at 0x10a505dd8>"
      ]
     },
     "metadata": {},
     "output_type": "display_data"
    }
   ],
   "source": [
    "import tensorflow as tf\n",
    "X = [1. , 2., 3.]\n",
    "Y = [1. , 2., 3.]\n",
    "\n",
    "\n",
    "W = tf.placeholder(tf.float32)\n",
    "\n",
    "hypothesis = tf.mul(X, W)\n",
    "\n",
    "cost = tf.reduce_mean(tf.pow(hypothesis-Y,2)) \n",
    "\n",
    "init = tf.initialize_all_variables()\n",
    "\n",
    "W_val = []\n",
    "cost_val = []\n",
    "\n",
    "sess = tf.Session()\n",
    "sess.run(init)\n",
    "\n",
    "for i in range(-30, 50):\n",
    "#     print (i* 0.1 , sess.run(cost, feed_dict={W: i*0.1}))\n",
    "    W_val.append(i*0.1)\n",
    "    cost_val.append(sess.run(cost, feed_dict={W: i * 0.1 }))\n",
    "\n",
    "plt.plot(W_val, cost_val, \"ro\")\n",
    "plt.ylabel('Cost')\n",
    "plt.ylabel('W')\n",
    "plt.show()\n"
   ]
  },
  {
   "cell_type": "code",
   "execution_count": 29,
   "metadata": {
    "collapsed": false
   },
   "outputs": [
    {
     "name": "stdout",
     "output_type": "stream",
     "text": [
      "0 135.34 [-4.38529253]\n",
      "1 38.4966 [-1.8721559]\n",
      "2 10.9502 [-0.53181648]\n",
      "3 3.11471 [ 0.18303126]\n",
      "4 0.885962 [ 0.56428337]\n",
      "5 0.252007 [ 0.76761782]\n",
      "6 0.071682 [ 0.87606281]\n",
      "7 0.0203895 [ 0.93390018]\n",
      "8 0.00579968 [ 0.96474677]\n",
      "9 0.0016497 [ 0.98119825]\n",
      "10 0.000469244 [ 0.98997241]\n",
      "11 0.000133474 [ 0.99465197]\n",
      "12 3.79655e-05 [ 0.99714774]\n",
      "13 1.07997e-05 [ 0.99847877]\n",
      "14 3.07193e-06 [ 0.99918866]\n",
      "15 8.73857e-07 [ 0.99956727]\n",
      "16 2.48564e-07 [ 0.99976921]\n",
      "17 7.07127e-08 [ 0.99987692]\n",
      "18 2.01053e-08 [ 0.99993438]\n",
      "19 5.70855e-09 [ 0.99996501]\n"
     ]
    }
   ],
   "source": [
    "import tensorflow as tf\n",
    "\n",
    "\n",
    "x_data = [1. , 2., 3.]\n",
    "y_data = [1. , 2., 3.]\n",
    "\n",
    "W = tf.Variable(tf.random_uniform([1],-10.0, 10.0))\n",
    "\n",
    "X = tf.placeholder(tf.float32)\n",
    "Y = tf.placeholder(tf.float32)\n",
    "\n",
    "hypothesis = W * X\n",
    "\n",
    "cost = tf.reduce_mean(tf.pow(hypothesis-Y,2))\n",
    "\n",
    "desent = W - tf.mul(0.1 , tf.reduce_mean(tf.mul((tf.mul(W,X) - Y), X) ))\n",
    "update = W.assign(desent)\n",
    "\n",
    "init = tf.initialize_all_variables()\n",
    "\n",
    "sess = tf.Session()\n",
    "sess.run(init)\n",
    "\n",
    "\n",
    "for i in range(20):\n",
    "    sess.run(update, feed_dict={X:x_data, Y:y_data})\n",
    "    print (i, sess.run(cost, feed_dict={X:x_data, Y:y_data}), sess.run(W) )"
   ]
  }
 ],
 "metadata": {
  "kernelspec": {
   "display_name": "Python 3",
   "language": "python",
   "name": "python3"
  },
  "language_info": {
   "codemirror_mode": {
    "name": "ipython",
    "version": 3
   },
   "file_extension": ".py",
   "mimetype": "text/x-python",
   "name": "python",
   "nbconvert_exporter": "python",
   "pygments_lexer": "ipython3",
   "version": "3.5.1"
  }
 },
 "nbformat": 4,
 "nbformat_minor": 0
}
