{
 "cells": [
  {
   "cell_type": "code",
   "execution_count": 65,
   "metadata": {
    "collapsed": false
   },
   "outputs": [
    {
     "name": "stdout",
     "output_type": "stream",
     "text": [
      "Populating the interactive namespace from numpy and matplotlib\n",
      "IPython version: 4.1.2\n",
      "numpy version: 1.10.4\n",
      "scikit-learn version: 0.17.1\n",
      "matplotlib version: 1.5.1\n"
     ]
    },
    {
     "name": "stderr",
     "output_type": "stream",
     "text": [
      "WARNING: pylab import has clobbered these variables: ['clf', 'axes', 'colors']\n",
      "`%matplotlib` prevents importing * from pylab and numpy\n"
     ]
    }
   ],
   "source": [
    "%pylab inline\n",
    "\n",
    "import IPython\n",
    "import sklearn as sk\n",
    "import numpy as np\n",
    "import matplotlib\n",
    "import matplotlib.pyplot as plt\n",
    "\n",
    "print ('IPython version:', IPython.__version__)\n",
    "print ('numpy version:', np.__version__)\n",
    "print ('scikit-learn version:', sk.__version__)\n",
    "print ('matplotlib version:', matplotlib.__version__)"
   ]
  },
  {
   "cell_type": "code",
   "execution_count": 66,
   "metadata": {
    "collapsed": false
   },
   "outputs": [
    {
     "name": "stdout",
     "output_type": "stream",
     "text": [
      "(150, 4) (150,)\n",
      "[ 5.1  3.5  1.4  0.2] 0\n",
      "[0 0 0 0 0 0 0 0 0 0 0 0 0 0 0 0 0 0 0 0 0 0 0 0 0 0 0 0 0 0 0 0 0 0 0 0 0\n",
      " 0 0 0 0 0 0 0 0 0 0 0 0 0 1 1 1 1 1 1 1 1 1 1 1 1 1 1 1 1 1 1 1 1 1 1 1 1\n",
      " 1 1 1 1 1 1 1 1 1 1 1 1 1 1 1 1 1 1 1 1 1 1 1 1 1 1 2 2 2 2 2 2 2 2 2 2 2\n",
      " 2 2 2 2 2 2 2 2 2 2 2 2 2 2 2 2 2 2 2 2 2 2 2 2 2 2 2 2 2 2 2 2 2 2 2 2 2\n",
      " 2 2]\n"
     ]
    }
   ],
   "source": [
    "from sklearn import datasets\n",
    "iris = datasets.load_iris()\n",
    "X_iris, y_iris = iris.data, iris.target\n",
    "print (X_iris.shape, y_iris.shape)\n",
    "print (X_iris[0], y_iris[0])\n",
    "print (y_iris)"
   ]
  },
  {
   "cell_type": "code",
   "execution_count": 67,
   "metadata": {
    "collapsed": false,
    "scrolled": true
   },
   "outputs": [],
   "source": [
    "from sklearn.cross_validation import train_test_split\n",
    "from sklearn.preprocessing import StandardScaler\n",
    "\n",
    "# Get dataset with only the first two attributes\n",
    "X, y = X_iris[:,:2], y_iris"
   ]
  },
  {
   "cell_type": "code",
   "execution_count": 68,
   "metadata": {
    "collapsed": false
   },
   "outputs": [
    {
     "name": "stdout",
     "output_type": "stream",
     "text": [
      "(112, 2) (112,)\n"
     ]
    }
   ],
   "source": [
    "X_train, X_test, y_train, y_test = train_test_split(X, y, test_size=0.25, random_state=33)\n",
    "# 전체 샘플에서 훈련 데이터와 테스트 데이터의 인덱스를 램덤하게 분류한다 / test_size 는 테스트 데이터의 비율을 입력함\n",
    "print (X_train.shape, y_train.shape)"
   ]
  },
  {
   "cell_type": "code",
   "execution_count": 69,
   "metadata": {
    "collapsed": false
   },
   "outputs": [],
   "source": [
    "scaler = StandardScaler().fit(X_train) # StandardScaler().fit 는 X_train의 값들을 표준화 시킬 수 있는 함수를 생성함\n",
    "\n",
    "X_train = scaler.transform(X_train) # scalar에 X_train을 값을 넣어 모든 값을 표준화 시킴\n",
    "X_test = scaler.transform(X_test) # scalar에 X_train을 값을 넣어 모든 값을 표준화 시킴"
   ]
  },
  {
   "cell_type": "code",
   "execution_count": 70,
   "metadata": {
    "collapsed": false
   },
   "outputs": [
    {
     "data": {
      "text/plain": [
       "<matplotlib.text.Text at 0x7f9e1a1b0f28>"
      ]
     },
     "execution_count": 70,
     "metadata": {},
     "output_type": "execute_result"
    },
    {
     "data": {
      "image/png": "[encoded data removed]",
      "text/plain": [
       "<matplotlib.figure.Figure at 0x7f9e1c58dba8>"
      ]
     },
     "metadata": {},
     "output_type": "display_data"
    }
   ],
   "source": [
    "colors = ['red', 'greenyellow', 'blue']\n",
    "for i in range(len(colors)):\n",
    "    px = X_train[:, 0][y_train == i] \n",
    "    py = X_train[:, 1][y_train == i]\n",
    "    # numpy의 indexing 기법중 하나로 X_train의 전체 값중 y_train의 index가 i와 같은 값들만 순차적으로 추출함\n",
    "\n",
    "    plt.scatter(px, py, c=colors[i])\n",
    "\n",
    "# 화면에 출력\n",
    "plt.legend(iris.target_names)\n",
    "plt.xlabel('Sepal length')\n",
    "plt.ylabel('Sepal width')"
   ]
  },
  {
   "cell_type": "code",
   "execution_count": 86,
   "metadata": {
    "collapsed": false
   },
   "outputs": [
    {
     "name": "stdout",
     "output_type": "stream",
     "text": [
      "[[-28.56232699  12.3553701 ]\n",
      " [  7.33357044  -7.38899584]\n",
      " [ 20.12406263  -2.71333618]]\n",
      "[-18.04452959  -8.83583574  -4.54920965]\n"
     ]
    }
   ],
   "source": [
    "# create the linear model classifier\n",
    "from sklearn.linear_model import SGDClassifier\n",
    "clf = SGDClassifier() # stichastic Gradient Descent기울기 강하법 기반의 분류기 호출\n",
    "# fit (train) the classifier\n",
    "clf.fit(X_train, y_train) # 훈련 데이터와 훈련 라베을 받아 모델을 훈련 시킴\n",
    "# print learned coeficients\n",
    "print (clf.coef_)\n",
    "print (clf.intercept_)"
   ]
  },
  {
   "cell_type": "markdown",
   "metadata": {},
   "source": [
    "#### 위의 값은 아래와 같이 선형 공식으로 변환이 가능함 \n",
    "\n",
    "- Setosa: -17.74685846 + -25.58098438 * x +  12.3553701 * y\n",
    "- Versicolor: -2.33476931  + 8.19869218 * x +   -8.14000854 * y\n",
    "- Virginica: -10.29162885 + 27.45763308 * x +   -1.96232349* y\n",
    "\n",
    "위 값에 각 샘플의 값을 대입했을 때, 0보다 크면 경계보다 위쪽(해당 꽃이 맞음), 그렇지 않을경우 아래쪽에 위치(해당 꽃이 아님)<br>\n",
    "다행히 특별히 3개 유형의 이진 분류라고 설정을 하지 않아도 프로그램이 알아서 라벨 종류에 따른 이진 분류를 실시함\n"
   ]
  },
  {
   "cell_type": "code",
   "execution_count": 90,
   "metadata": {
    "collapsed": false
   },
   "outputs": [
    {
     "name": "stdout",
     "output_type": "stream",
     "text": [
      "[ True  True  True  True  True  True  True  True]\n",
      "[ True  True  True  True  True  True  True  True  True  True  True  True\n",
      "  True  True  True  True  True  True  True  True  True  True  True  True\n",
      "  True  True  True  True  True  True]\n"
     ]
    }
   ],
   "source": [
    "compute_x_setosa = X_test.dot(clf.coef_[0]) + clf.intercept_[0] \n",
    "# 위 수식에 Test 데이터를 대입함, 나온 값은 X_text array 크기가 나오며, 값 값이 0보다 크면 setosa 아닐 경우 다른 식물임\n",
    "\n",
    "print(compute_x_setosa[y_test==0] > 0) \n",
    "# 위 결과 array 중에 test의 라벨 setosa인 경우에만 결과 값을 출력함, 모두 0을 넘으면 제대로 예측한 경우 \n",
    "print(compute_x_setosa[y_test!=0] < 0)\n",
    "# 위 결과 array 중에 test의 라벨 setosa가 아닌 경우에만 결과 값을 출력함, 모두 0보다 작으면 제대로 예측한 경우 \n",
    "\n",
    "#zΩompute_x_setosa, y_train(1)"
   ]
  },
  {
   "cell_type": "code",
   "execution_count": 91,
   "metadata": {
    "collapsed": false
   },
   "outputs": [
    {
     "data": {
      "image/png": "[encoded data removed]",
      "text/plain": [
       "<matplotlib.figure.Figure at 0x7f9e1a18e550>"
      ]
     },
     "metadata": {},
     "output_type": "display_data"
    }
   ],
   "source": [
    "x_min, x_max = X_train[:, 0].min() - .5, X_train[:, 0].max() + .5\n",
    "y_min, y_max = X_train[:, 1].min() - .5, X_train[:, 1].max() + .5\n",
    "xs = np.arange(x_min,x_max,0.5)\n",
    "\n",
    "fig, axes = plt.subplots(1,3)\n",
    "fig.set_size_inches(10,6)\n",
    "\n",
    "for i in [0,1,2]:\n",
    "    axes[i].set_aspect('equal')\n",
    "    axes[i].set_title('Class ' + str(i) + ' versus the rest')\n",
    "    axes[i].set_xlabel('Sepal length')\n",
    "    axes[i].set_ylabel('Sepal width')\n",
    "    axes[i].set_xlim(x_min, x_max)\n",
    "    axes[i].set_ylim(y_min, y_max)\n",
    "    plt.sca(axes[i])\n",
    "    for j in range(len(colors)):\n",
    "        px = X_train[:, 0][y_train == j]\n",
    "        py = X_train[:, 1][y_train == j]\n",
    "        plt.scatter(px, py, c=colors[j])\n",
    "    ys = (-clf.intercept_[i]-xs*clf.coef_[i,0])/clf.coef_[i,1]\n",
    "    plt.plot(xs,ys,hold=True)\n",
    "    \n"
   ]
  },
  {
   "cell_type": "code",
   "execution_count": 93,
   "metadata": {
    "collapsed": false
   },
   "outputs": [
    {
     "name": "stdout",
     "output_type": "stream",
     "text": [
      "[0]\n",
      "[[ 19.09637773 -18.77015979 -30.15169368]]\n"
     ]
    }
   ],
   "source": [
    "print (clf.predict(scaler.transform([[4.7, 3.1]])))\n",
    "# 길이가 4.7, 3.1인 식물을 표준화 시키셔 예상해보면 0번 식물\n",
    "\n",
    "print (clf.decision_function(scaler.transform([[4.7, 3.1]])))\n",
    "# 세개의 분류 모델중 가장 멀리 떨어진 양의 모델임"
   ]
  },
  {
   "cell_type": "code",
   "execution_count": 103,
   "metadata": {
    "collapsed": false
   },
   "outputs": [
    {
     "name": "stdout",
     "output_type": "stream",
     "text": [
      "0.732142857143\n",
      "0.684210526316\n"
     ]
    }
   ],
   "source": [
    "from sklearn import metrics\n",
    "y_train_pred = clf.predict(X_train)\n",
    "print (metrics.accuracy_score(y_train, y_train_pred))\n",
    "# Train 데이터의 분류기 정확도 측정: 아래 결과상 68%임 결과는 할때마다 바뀜\n",
    "\n",
    "\n",
    "y_pred = clf.predict(X_test)\n",
    "print (metrics.accuracy_score(y_test, y_pred))\n",
    "# Test 데이터의 분류기 정확도 측정: 아래 결과상 68%임 결과는 할때마다 바뀜\n"
   ]
  },
  {
   "cell_type": "code",
   "execution_count": 105,
   "metadata": {
    "collapsed": false
   },
   "outputs": [
    {
     "name": "stdout",
     "output_type": "stream",
     "text": [
      "             precision    recall  f1-score   support\n",
      "\n",
      "     setosa       1.00      1.00      1.00         8\n",
      " versicolor       0.33      0.09      0.14        11\n",
      "  virginica       0.63      0.89      0.74        19\n",
      "\n",
      "avg / total       0.62      0.68      0.62        38\n",
      "\n",
      "[[ 8  0  0]\n",
      " [ 0  1 10]\n",
      " [ 0  2 17]]\n"
     ]
    }
   ],
   "source": [
    "print (metrics.classification_report(y_test, y_pred, target_names=iris.target_names))\n",
    "print (metrics.confusion_matrix(y_test, y_pred))\n"
   ]
  },
  {
   "cell_type": "code",
   "execution_count": 107,
   "metadata": {
    "collapsed": false
   },
   "outputs": [
    {
     "name": "stdout",
     "output_type": "stream",
     "text": [
      "[ 0.63333333  0.7         0.8         0.9         0.56666667]\n"
     ]
    }
   ],
   "source": [
    "from sklearn.cross_validation import cross_val_score, KFold\n",
    "from sklearn.pipeline import Pipeline\n",
    "\n",
    "# create a composite estimator made by a pipeline of the standarization and the linear model\n",
    "clf = Pipeline([\n",
    "        ('scaler', StandardScaler()),\n",
    "        ('linear_model', SGDClassifier())\n",
    "])\n",
    "# create a k-fold croos validation iterator of k=5 folds\n",
    "cv = KFold(X.shape[0], 5, shuffle=True, random_state=33) \n",
    "# 첫 번째 변수는 데이터 셋의 크기, 두 번째는 교차검증 횟수\n",
    "\n",
    "# by default the score used is the one returned by score method of the estimator (accuracy)\n",
    "scores = cross_val_score(clf, X, y, cv=cv)\n",
    "\n",
    "print (scores) # 각 교차 검증을 실시했을때의 정확도"
   ]
  },
  {
   "cell_type": "code",
   "execution_count": 108,
   "metadata": {
    "collapsed": false
   },
   "outputs": [
    {
     "name": "stdout",
     "output_type": "stream",
     "text": [
      "Mean score: 0.720 (+/-0.059)\n"
     ]
    }
   ],
   "source": [
    "from scipy.stats import sem\n",
    "\n",
    "def mean_score(scores):\n",
    "    \"\"\"Print the empirical mean score and standard error of the mean.\"\"\"\n",
    "    return (\"Mean score: {0:.3f} (+/-{1:.3f})\").format(\n",
    "        np.mean(scores), sem(scores))\n",
    "\n",
    "print (mean_score(scores))"
   ]
  }
 ],
 "metadata": {
  "kernelspec": {
   "display_name": "Python 3",
   "language": "python",
   "name": "python3"
  },
  "language_info": {
   "codemirror_mode": {
    "name": "ipython",
    "version": 3
   },
   "file_extension": ".py",
   "mimetype": "text/x-python",
   "name": "python",
   "nbconvert_exporter": "python",
   "pygments_lexer": "ipython3",
   "version": "3.5.1"
  }
 },
 "nbformat": 4,
 "nbformat_minor": 0
}
